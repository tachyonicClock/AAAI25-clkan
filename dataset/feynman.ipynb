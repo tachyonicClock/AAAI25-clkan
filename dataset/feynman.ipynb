{
 "cells": [
  {
   "cell_type": "markdown",
   "metadata": {},
   "source": [
    "# Prepare Feynman Dataset\n",
    "\n",
    "1. Download `Feynman_without_units.tar.gz` from https://space.mit.edu/home/tegmark/aifeynman.html.\n",
    "2. Once obtained please place the archive in your `TORCH_DATA_DIR` directory. **DO NOT EXTRACT THE ARCHIVE**.\n",
    "3. Run this notebook to generate `feynman.hdf5`."
   ]
  },
  {
   "cell_type": "code",
   "execution_count": null,
   "metadata": {
    "execution": {
     "iopub.execute_input": "2024-08-18T02:27:59.786261Z",
     "iopub.status.busy": "2024-08-18T02:27:59.785752Z",
     "iopub.status.idle": "2024-08-18T02:27:59.888906Z",
     "shell.execute_reply": "2024-08-18T02:27:59.888392Z"
    }
   },
   "outputs": [],
   "source": [
    "import tarfile\n",
    "import numpy as np\n",
    "import h5py\n",
    "import tqdm\n",
    "from pathlib import Path\n",
    "from os import environ"
   ]
  },
  {
   "cell_type": "code",
   "execution_count": null,
   "metadata": {
    "execution": {
     "iopub.execute_input": "2024-08-18T02:27:59.890544Z",
     "iopub.status.busy": "2024-08-18T02:27:59.890365Z",
     "iopub.status.idle": "2024-08-18T02:27:59.892483Z",
     "shell.execute_reply": "2024-08-18T02:27:59.892213Z"
    }
   },
   "outputs": [],
   "source": [
    "data_directory = Path(environ.get(\"TORCH_DATA_DIR\", \".\")).expanduser().resolve()\n",
    "unprocessed_dataset = data_directory / \"Feynman_without_units.tar.gz\""
   ]
  },
  {
   "cell_type": "markdown",
   "metadata": {},
   "source": [
    "### 2. Only use some Filenames\n",
    "We ignore equations with fewer than two variables, since they are trivial and a \n",
    "KAN can solve them with a single B-Spline."
   ]
  },
  {
   "cell_type": "code",
   "execution_count": null,
   "metadata": {
    "execution": {
     "iopub.execute_input": "2024-08-18T02:27:59.894057Z",
     "iopub.status.busy": "2024-08-18T02:27:59.893963Z",
     "iopub.status.idle": "2024-08-18T02:27:59.895848Z",
     "shell.execute_reply": "2024-08-18T02:27:59.895623Z"
    }
   },
   "outputs": [],
   "source": [
    "filenames = [\n",
    "    \"I.6.2\",\n",
    "    \"I.6.2b\",\n",
    "    \"I.8.14\",\n",
    "    \"I.9.18\",\n",
    "    \"I.11.19\",\n",
    "    \"I.12.11\",\n",
    "    \"I.13.12\",\n",
    "    \"I.15.3x\",\n",
    "    \"I.15.3t\",\n",
    "    \"I.16.6\",\n",
    "    \"I.18.4\",\n",
    "    \"I.26.2\",\n",
    "    \"I.27.6\",\n",
    "    \"I.29.16\",\n",
    "    \"I.30.3\",\n",
    "    \"I.30.5\",\n",
    "    \"I.32.17\",\n",
    "    \"I.37.4\",\n",
    "    \"I.40.1\",\n",
    "    \"I.44.4\",\n",
    "    \"I.50.26\",\n",
    "    \"II.2.42\",\n",
    "    \"II.6.15a\",\n",
    "    \"II.11.7\",\n",
    "    \"II.11.27\",\n",
    "    \"II.11.28\",\n",
    "    \"II.34.29b\",\n",
    "    \"II.35.18\",\n",
    "    \"II.36.38\",\n",
    "    \"II.38.3\",\n",
    "    \"III.9.52\",\n",
    "    \"III.10.19\",\n",
    "    \"III.15.27\",\n",
    "    \"III.17.37\",\n",
    "]"
   ]
  },
  {
   "cell_type": "markdown",
   "metadata": {},
   "source": [
    "### 3. Load and save the data\n",
    "We load the data and save it in a format that is easier to work with."
   ]
  },
  {
   "cell_type": "code",
   "execution_count": null,
   "metadata": {
    "execution": {
     "iopub.execute_input": "2024-08-18T02:27:59.897329Z",
     "iopub.status.busy": "2024-08-18T02:27:59.897208Z",
     "iopub.status.idle": "2024-08-18T02:30:51.109812Z",
     "shell.execute_reply": "2024-08-18T02:30:51.109521Z"
    }
   },
   "outputs": [],
   "source": [
    "n_samples = 100_000\n",
    "np.random.seed(0)\n",
    "\n",
    "feynman_filename = data_directory / \"feynman_tmp.hdf5\"\n",
    "with h5py.File(feynman_filename, \"w\") as f:\n",
    "    with tarfile.open(unprocessed_dataset.as_posix(), \"r:gz\") as tar:\n",
    "        for filename in tqdm.tqdm(filenames):\n",
    "            member = tar.getmember(\"Feynman_without_units/\" + filename)\n",
    "            matrix = np.loadtxt(tar.extractfile(member))\n",
    "            indices = np.random.permutation(matrix.shape[0])[:n_samples]\n",
    "            group = f.create_group(filename)\n",
    "            group.create_dataset(\n",
    "                \"x\", dtype=\"float32\", data=matrix[indices, :-1], compression=\"gzip\"\n",
    "            )\n",
    "            group.create_dataset(\n",
    "                \"y\", dtype=\"float32\", data=matrix[indices, -1], compression=\"gzip\"\n",
    "            )\n",
    "\n",
    "feynman_filename.rename(data_directory / \"feynman.hdf5\")"
   ]
  }
 ],
 "metadata": {
  "kernelspec": {
   "display_name": ".venv",
   "language": "python",
   "name": "python3"
  },
  "language_info": {
   "codemirror_mode": {
    "name": "ipython",
    "version": 3
   },
   "file_extension": ".py",
   "mimetype": "text/x-python",
   "name": "python",
   "nbconvert_exporter": "python",
   "pygments_lexer": "ipython3",
   "version": "3.12.7"
  }
 },
 "nbformat": 4,
 "nbformat_minor": 2
}
